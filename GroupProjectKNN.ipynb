{
 "cells": [
  {
   "cell_type": "code",
   "execution_count": 1,
   "id": "c724ec0e",
   "metadata": {
    "tags": []
   },
   "outputs": [],
   "source": [
    "##Bring in the appropriate packages\n",
    "import datetime\n",
    "import time\n",
    "import pandas as pd\n",
    "import numpy as np\n",
    "import re\n",
    "from sklearn.decomposition import PCA\n",
    "from sklearn.preprocessing import StandardScaler, OrdinalEncoder\n",
    "import pickle"
   ]
  },
  {
   "cell_type": "code",
   "execution_count": 2,
   "id": "c2381469",
   "metadata": {
    "tags": []
   },
   "outputs": [],
   "source": [
    "df=pd.read_csv('AtlantaPrices_Processed.csv')"
   ]
  },
  {
   "cell_type": "code",
   "execution_count": 8,
   "id": "caa65bed-b800-4778-b31c-3c5b75a050f5",
   "metadata": {
    "tags": []
   },
   "outputs": [
    {
     "name": "stdout",
     "output_type": "stream",
     "text": [
      "<class 'pandas.core.frame.DataFrame'>\n",
      "RangeIndex: 14303 entries, 0 to 14302\n",
      "Data columns (total 13 columns):\n",
      " #   Column               Non-Null Count  Dtype  \n",
      "---  ------               --------------  -----  \n",
      " 0   destinationAirport   14303 non-null  object \n",
      " 1   isBasicEconomy       14303 non-null  bool   \n",
      " 2   isNonStop            14303 non-null  bool   \n",
      " 3   baseFare             14303 non-null  float64\n",
      " 4   seatsRemaining       14303 non-null  float64\n",
      " 5   totalTravelDistance  14303 non-null  float64\n",
      " 6   totalTravelDuration  14303 non-null  int64  \n",
      " 7   weeknum              14303 non-null  int64  \n",
      " 8   time_of_departure    14303 non-null  object \n",
      " 9   time_of_arrival      14303 non-null  object \n",
      " 10  no_airlines          14303 non-null  int64  \n",
      " 11  no_layovers          14303 non-null  int64  \n",
      " 12  segmentsCabinCode_1  14303 non-null  object \n",
      "dtypes: bool(2), float64(3), int64(4), object(4)\n",
      "memory usage: 1.2+ MB\n"
     ]
    }
   ],
   "source": [
    "df.info()"
   ]
  },
  {
   "cell_type": "code",
   "execution_count": 4,
   "id": "2a2a4421",
   "metadata": {
    "tags": []
   },
   "outputs": [
    {
     "data": {
      "text/html": [
       "<div>\n",
       "<style scoped>\n",
       "    .dataframe tbody tr th:only-of-type {\n",
       "        vertical-align: middle;\n",
       "    }\n",
       "\n",
       "    .dataframe tbody tr th {\n",
       "        vertical-align: top;\n",
       "    }\n",
       "\n",
       "    .dataframe thead th {\n",
       "        text-align: right;\n",
       "    }\n",
       "</style>\n",
       "<table border=\"1\" class=\"dataframe\">\n",
       "  <thead>\n",
       "    <tr style=\"text-align: right;\">\n",
       "      <th></th>\n",
       "      <th>destinationAirport</th>\n",
       "      <th>isBasicEconomy</th>\n",
       "      <th>isNonStop</th>\n",
       "      <th>baseFare</th>\n",
       "      <th>seatsRemaining</th>\n",
       "      <th>totalTravelDistance</th>\n",
       "      <th>totalTravelDuration</th>\n",
       "      <th>weeknum</th>\n",
       "      <th>time_of_departure</th>\n",
       "      <th>time_of_arrival</th>\n",
       "      <th>no_airlines</th>\n",
       "      <th>no_layovers</th>\n",
       "      <th>segmentsCabinCode_1</th>\n",
       "    </tr>\n",
       "  </thead>\n",
       "  <tbody>\n",
       "    <tr>\n",
       "      <th>0</th>\n",
       "      <td>BOS</td>\n",
       "      <td>False</td>\n",
       "      <td>True</td>\n",
       "      <td>217.67</td>\n",
       "      <td>9.0</td>\n",
       "      <td>947.0</td>\n",
       "      <td>149</td>\n",
       "      <td>15</td>\n",
       "      <td>Mid-Day</td>\n",
       "      <td>Mid-Day</td>\n",
       "      <td>1</td>\n",
       "      <td>1</td>\n",
       "      <td>coach</td>\n",
       "    </tr>\n",
       "    <tr>\n",
       "      <th>1</th>\n",
       "      <td>BOS</td>\n",
       "      <td>False</td>\n",
       "      <td>True</td>\n",
       "      <td>217.67</td>\n",
       "      <td>4.0</td>\n",
       "      <td>947.0</td>\n",
       "      <td>150</td>\n",
       "      <td>15</td>\n",
       "      <td>Morning</td>\n",
       "      <td>Mid-Day</td>\n",
       "      <td>1</td>\n",
       "      <td>1</td>\n",
       "      <td>coach</td>\n",
       "    </tr>\n",
       "    <tr>\n",
       "      <th>2</th>\n",
       "      <td>BOS</td>\n",
       "      <td>False</td>\n",
       "      <td>True</td>\n",
       "      <td>217.67</td>\n",
       "      <td>9.0</td>\n",
       "      <td>947.0</td>\n",
       "      <td>150</td>\n",
       "      <td>15</td>\n",
       "      <td>Mid-Day</td>\n",
       "      <td>Mid-Day</td>\n",
       "      <td>1</td>\n",
       "      <td>1</td>\n",
       "      <td>coach</td>\n",
       "    </tr>\n",
       "    <tr>\n",
       "      <th>3</th>\n",
       "      <td>BOS</td>\n",
       "      <td>False</td>\n",
       "      <td>True</td>\n",
       "      <td>217.67</td>\n",
       "      <td>8.0</td>\n",
       "      <td>947.0</td>\n",
       "      <td>152</td>\n",
       "      <td>15</td>\n",
       "      <td>Mid-Day</td>\n",
       "      <td>Night</td>\n",
       "      <td>1</td>\n",
       "      <td>1</td>\n",
       "      <td>coach</td>\n",
       "    </tr>\n",
       "    <tr>\n",
       "      <th>4</th>\n",
       "      <td>BOS</td>\n",
       "      <td>False</td>\n",
       "      <td>True</td>\n",
       "      <td>217.67</td>\n",
       "      <td>9.0</td>\n",
       "      <td>947.0</td>\n",
       "      <td>154</td>\n",
       "      <td>15</td>\n",
       "      <td>Mid-Day</td>\n",
       "      <td>Mid-Day</td>\n",
       "      <td>1</td>\n",
       "      <td>1</td>\n",
       "      <td>coach</td>\n",
       "    </tr>\n",
       "  </tbody>\n",
       "</table>\n",
       "</div>"
      ],
      "text/plain": [
       "  destinationAirport  isBasicEconomy  isNonStop  baseFare  seatsRemaining  \\\n",
       "0                BOS           False       True    217.67             9.0   \n",
       "1                BOS           False       True    217.67             4.0   \n",
       "2                BOS           False       True    217.67             9.0   \n",
       "3                BOS           False       True    217.67             8.0   \n",
       "4                BOS           False       True    217.67             9.0   \n",
       "\n",
       "   totalTravelDistance  totalTravelDuration  weeknum time_of_departure  \\\n",
       "0                947.0                  149       15           Mid-Day   \n",
       "1                947.0                  150       15           Morning   \n",
       "2                947.0                  150       15           Mid-Day   \n",
       "3                947.0                  152       15           Mid-Day   \n",
       "4                947.0                  154       15           Mid-Day   \n",
       "\n",
       "  time_of_arrival  no_airlines  no_layovers segmentsCabinCode_1  \n",
       "0         Mid-Day            1            1               coach  \n",
       "1         Mid-Day            1            1               coach  \n",
       "2         Mid-Day            1            1               coach  \n",
       "3           Night            1            1               coach  \n",
       "4         Mid-Day            1            1               coach  "
      ]
     },
     "execution_count": 4,
     "metadata": {},
     "output_type": "execute_result"
    }
   ],
   "source": [
    "df.head()"
   ]
  },
  {
   "cell_type": "code",
   "execution_count": 5,
   "id": "4bf66663",
   "metadata": {
    "tags": []
   },
   "outputs": [
    {
     "name": "stdout",
     "output_type": "stream",
     "text": [
      "        PC1       PC2       PC3       PC4       PC5       PC6       PC7  \\\n",
      "0 -2.510904  1.346207 -1.111237 -0.266321  0.345049 -0.502365  0.346044   \n",
      "1 -2.214743  1.294716 -2.010674  0.675326 -1.345372  0.146349 -0.364235   \n",
      "2 -2.509008  1.345456 -1.111303 -0.265948  0.344966 -0.502610  0.346149   \n",
      "3 -2.056213  1.335252  0.939625 -1.113356  0.755003 -0.137005  0.424440   \n",
      "4 -2.501422  1.342452 -1.111564 -0.264455  0.344636 -0.503591  0.346569   \n",
      "\n",
      "        PC8       PC9      PC10  ...      PC15      PC16      PC17      PC18  \\\n",
      "0 -1.200936  0.507735  0.109420  ...  0.468660 -0.332489 -1.646605  0.391982   \n",
      "1  0.232629  0.206521  0.167301  ...  0.619541 -0.425484 -1.047393  0.129720   \n",
      "2 -1.201049  0.507899  0.109342  ...  0.468689 -0.332562 -1.646556  0.392093   \n",
      "3 -0.585273  0.247655  0.020650  ...  0.381677 -0.371912 -1.381600  0.230496   \n",
      "4 -1.201497  0.508553  0.109030  ...  0.468803 -0.332852 -1.646363  0.392536   \n",
      "\n",
      "       PC19      PC20      PC21      PC22      PC23      PC24  \n",
      "0 -1.604316  0.221480  0.280224 -1.457813  0.083251 -0.590051  \n",
      "1 -1.975820 -0.326288 -0.741674 -1.774294  0.046534 -0.508476  \n",
      "2 -1.604160  0.221573  0.280679 -1.457685  0.083285 -0.590059  \n",
      "3 -1.712462 -0.078422 -0.201749 -1.659441 -0.493864 -1.396243  \n",
      "4 -1.603534  0.221946  0.282498 -1.457173  0.083422 -0.590090  \n",
      "\n",
      "[5 rows x 24 columns]\n"
     ]
    },
    {
     "name": "stderr",
     "output_type": "stream",
     "text": [
      "/Users/luisgrisanti/anaconda3/lib/python3.11/site-packages/sklearn/preprocessing/_encoders.py:972: FutureWarning: `sparse` was renamed to `sparse_output` in version 1.2 and will be removed in 1.4. `sparse_output` is ignored unless you leave `sparse` to its default value.\n",
      "  warnings.warn(\n"
     ]
    }
   ],
   "source": [
    "from sklearn.preprocessing import StandardScaler, OneHotEncoder\n",
    "from sklearn.decomposition import PCA\n",
    "\n",
    "\n",
    "# Step 1: One-hot encode non-numeric columns\n",
    "non_numeric_columns = df.select_dtypes(exclude=['int', 'float']).columns\n",
    "\n",
    "one_hot_encoder = OneHotEncoder(sparse=False) #, drop='first')  # 'drop' is set to 'first' to avoid the dummy variable trap\n",
    "encoded_columns = pd.DataFrame(one_hot_encoder.fit_transform(df[non_numeric_columns]))\n",
    "encoded_columns.columns = one_hot_encoder.get_feature_names_out(non_numeric_columns)\n",
    "\n",
    "df_PCA = pd.concat([df.drop(columns=non_numeric_columns), encoded_columns], axis=1)\n",
    "\n",
    "# Step 2: Scale the data\n",
    "scaler = StandardScaler()\n",
    "scaled_data = scaler.fit_transform(df_PCA)\n",
    "\n",
    "# Step 3: Perform PCA\n",
    "# You can specify the number of components you want to keep\n",
    "num_components = 24  # Change this to your desired number of components\n",
    "pca = PCA(n_components=num_components)\n",
    "pca_result = pca.fit_transform(scaled_data)\n",
    "\n",
    "# Now, pca_result contains the transformed data after PCA\n",
    "# You can convert it back to a DataFrame if needed\n",
    "pca_dataframe = pd.DataFrame(data=pca_result, columns=[f'PC{i+1}' for i in range(num_components)])\n",
    "\n",
    "# Print the resulting DataFrame\n",
    "print(pca_dataframe.head())"
   ]
  },
  {
   "cell_type": "code",
   "execution_count": 6,
   "id": "86f31e90",
   "metadata": {
    "scrolled": true,
    "tags": []
   },
   "outputs": [
    {
     "name": "stdout",
     "output_type": "stream",
     "text": [
      "        PC1       PC2       PC3       PC4       PC5       PC6       PC7  \\\n",
      "0 -2.510743  1.334651 -1.113796 -0.266000  0.335680 -0.523038 -0.310123   \n",
      "1 -2.215048  1.308225 -2.004678  0.678794 -1.326986  0.170188  0.346119   \n",
      "2 -2.508846  1.333899 -1.113862 -0.265627  0.335596 -0.523286 -0.310226   \n",
      "3 -2.056296  1.330283  0.941504 -1.109981  0.758728 -0.147122 -0.392610   \n",
      "4 -2.501261  1.330889 -1.114128 -0.264134  0.335259 -0.524275 -0.310635   \n",
      "\n",
      "        PC8       PC9      PC10      PC11      PC12  \n",
      "0 -1.188059  0.596352  0.122050 -2.286555  0.263634  \n",
      "1  0.242575  0.134150  0.091343 -2.269586  0.352441  \n",
      "2 -1.188171  0.596523  0.121978 -2.286526  0.263618  \n",
      "3 -0.554870  0.269914 -0.006713 -2.234057  0.287737  \n",
      "4 -1.188618  0.597209  0.121686 -2.286411  0.263552  \n",
      "Number of components: 12\n",
      "Cumulative explained variance: 63.92%\n"
     ]
    }
   ],
   "source": [
    "#Perform PCA with automatic determination of components\n",
    "pca = PCA()\n",
    "pca_result = pca.fit_transform(scaled_data)\n",
    "\n",
    "# Determine the number of components based on a threshold (e.g., 95% variance explained)\n",
    "cumulative_variance_ratio = pca.explained_variance_ratio_.cumsum()\n",
    "num_components = sum(cumulative_variance_ratio >= 0.95)\n",
    "\n",
    "# Apply PCA with the determined number of components\n",
    "pca = PCA(n_components=num_components)\n",
    "pca_result = pca.fit_transform(scaled_data)\n",
    "\n",
    "# Now, pca_result contains the transformed data after PCA\n",
    "pca_dataframe = pd.DataFrame(data=pca_result, columns=[f'PC{i+1}' for i in range(num_components)])\n",
    "\n",
    "# Print the resulting DataFrame and explained variance\n",
    "print(pca_dataframe.head())\n",
    "print(f\"Number of components: {num_components}\")\n",
    "print(f\"Cumulative explained variance: {cumulative_variance_ratio[num_components - 1]:.2%}\")\n"
   ]
  },
  {
   "cell_type": "code",
   "execution_count": 7,
   "id": "d52ae867",
   "metadata": {
    "tags": []
   },
   "outputs": [
    {
     "data": {
      "image/png": "[encoded data removed]",
      "text/plain": [
       "<Figure size 800x600 with 1 Axes>"
      ]
     },
     "metadata": {},
     "output_type": "display_data"
    }
   ],
   "source": [
    "# Scree Plot\n",
    "import matplotlib.pyplot as plt\n",
    "%matplotlib inline\n",
    "plt.figure(figsize=(8, 6))\n",
    "plt.plot(range(1, len(cumulative_variance_ratio) + 1), cumulative_variance_ratio, marker='o', linestyle='-', color='b')\n",
    "plt.title('Scree Plot')\n",
    "plt.xlabel('Number of Components')\n",
    "plt.ylabel('Cumulative Explained Variance')\n",
    "plt.grid(True)\n",
    "plt.show()"
   ]
  },
  {
   "cell_type": "code",
   "execution_count": 22,
   "id": "3ac3d532",
   "metadata": {
    "tags": []
   },
   "outputs": [
    {
     "name": "stdout",
     "output_type": "stream",
     "text": [
      "Mean Squared Error: 9482.177962887103\n",
      "R-squared: 0.6325022446264394\n"
     ]
    },
    {
     "data": {
      "image/png": "[encoded data removed]",
      "text/plain": [
       "<Figure size 640x480 with 1 Axes>"
      ]
     },
     "metadata": {},
     "output_type": "display_data"
    }
   ],
   "source": [
    "import pandas as pd\n",
    "from sklearn.model_selection import train_test_split\n",
    "from sklearn.preprocessing import StandardScaler, OneHotEncoder\n",
    "from sklearn.compose import ColumnTransformer\n",
    "from sklearn.pipeline import Pipeline\n",
    "from sklearn.neighbors import KNeighborsRegressor\n",
    "from sklearn.metrics import mean_squared_error, r2_score\n",
    "import matplotlib.pyplot as plt\n",
    "\n",
    "# Assuming you have a DataFrame named 'df' with the necessary columns\n",
    "\n",
    "# Extracting features (independent variables) and the target variable\n",
    "X = df.drop(['baseFare'], axis=1)\n",
    "y = df['baseFare']\n",
    "\n",
    "# Splitting the data into training and testing sets\n",
    "X_train, X_test, y_train, y_test = train_test_split(X, y, test_size=0.2, random_state=39)\n",
    "\n",
    "# Separating numeric and categorical columns\n",
    "numeric_features = X.select_dtypes(include=['float64', 'int64']).columns\n",
    "categorical_features = X.select_dtypes(include=['object']).columns\n",
    "\n",
    "# Creating transformers for numeric and categorical features\n",
    "numeric_transformer = Pipeline(steps=[('scaler', StandardScaler())])\n",
    "categorical_transformer = Pipeline(steps=[('onehot', OneHotEncoder(handle_unknown='ignore'))])\n",
    "\n",
    "# Combining transformers using ColumnTransformer\n",
    "preprocessor = ColumnTransformer(\n",
    "    transformers=[\n",
    "        ('num', numeric_transformer, numeric_features),\n",
    "        ('cat', categorical_transformer, categorical_features)\n",
    "    ])\n",
    "\n",
    "# Combining preprocessing and KNN model into a single pipeline\n",
    "pipeline = Pipeline(steps=[('preprocessor', preprocessor),\n",
    "                             ('regressor', KNeighborsRegressor(n_neighbors=5))])\n",
    "\n",
    "# Fitting the pipeline\n",
    "pipeline.fit(X_train, y_train)\n",
    "\n",
    "# Predictions on the test set\n",
    "y_pred = pipeline.predict(X_test)\n",
    "\n",
    "# Evaluate the model\n",
    "mse = mean_squared_error(y_test, y_pred)\n",
    "r2 = r2_score(y_test, y_pred)\n",
    "\n",
    "print(f'Mean Squared Error: {mse}')\n",
    "print(f'R-squared: {r2}')\n",
    "\n",
    "import matplotlib.pyplot as plt\n",
    "import seaborn as sns\n",
    "\n",
    "# Calculate residuals\n",
    "residuals = y_test - y_pred\n",
    "\n",
    "# Plotting residual values\n",
    "# Plotting actual vs. predicted values\n",
    "plt.scatter(y_test, y_pred)\n",
    "plt.xlabel('Actual Base Fare')\n",
    "plt.ylabel('Predicted Base Fare')\n",
    "plt.title('Actual vs. Predicted Base Fare using KNN')\n",
    "plt.show()"
   ]
  },
  {
   "cell_type": "code",
   "execution_count": null,
   "id": "bf85990f-c567-4ea2-8c62-f1c9d17db660",
   "metadata": {},
   "outputs": [],
   "source": []
  }
 ],
 "metadata": {
  "kernelspec": {
   "display_name": "Python 3 (ipykernel)",
   "language": "python",
   "name": "python3"
  },
  "language_info": {
   "codemirror_mode": {
    "name": "ipython",
    "version": 3
   },
   "file_extension": ".py",
   "mimetype": "text/x-python",
   "name": "python",
   "nbconvert_exporter": "python",
   "pygments_lexer": "ipython3",
   "version": "3.11.4"
  }
 },
 "nbformat": 4,
 "nbformat_minor": 5
}
